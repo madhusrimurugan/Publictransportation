{
 "cells": [
  {
   "cell_type": "code",
   "execution_count": 1,
   "id": "c9226734",
   "metadata": {},
   "outputs": [
    {
     "name": "stderr",
     "output_type": "stream",
     "text": [
      "C:\\Users\\IT\\AppData\\Local\\Temp\\ipykernel_9396\\1498719901.py:5: DtypeWarning: Columns (1) have mixed types. Specify dtype option on import or set low_memory=False.\n",
      "  data = pd.read_csv(r\"C:\\Users\\IT\\Desktop\\Samyukdha\\public transport analysis.csv\")\n"
     ]
    },
    {
     "data": {
      "text/html": [
       "<div>\n",
       "<style scoped>\n",
       "    .dataframe tbody tr th:only-of-type {\n",
       "        vertical-align: middle;\n",
       "    }\n",
       "\n",
       "    .dataframe tbody tr th {\n",
       "        vertical-align: top;\n",
       "    }\n",
       "\n",
       "    .dataframe thead th {\n",
       "        text-align: right;\n",
       "    }\n",
       "</style>\n",
       "<table border=\"1\" class=\"dataframe\">\n",
       "  <thead>\n",
       "    <tr style=\"text-align: right;\">\n",
       "      <th></th>\n",
       "      <th>TripID</th>\n",
       "      <th>RouteID</th>\n",
       "      <th>StopID</th>\n",
       "      <th>StopName</th>\n",
       "      <th>WeekBeginning</th>\n",
       "      <th>NumberOfBoardings</th>\n",
       "    </tr>\n",
       "  </thead>\n",
       "  <tbody>\n",
       "    <tr>\n",
       "      <th>0</th>\n",
       "      <td>23631</td>\n",
       "      <td>100</td>\n",
       "      <td>14156</td>\n",
       "      <td>181 Cross Rd</td>\n",
       "      <td>6/30/2013 0:00</td>\n",
       "      <td>1</td>\n",
       "    </tr>\n",
       "    <tr>\n",
       "      <th>1</th>\n",
       "      <td>23631</td>\n",
       "      <td>100</td>\n",
       "      <td>14144</td>\n",
       "      <td>177 Cross Rd</td>\n",
       "      <td>6/30/2013 0:00</td>\n",
       "      <td>1</td>\n",
       "    </tr>\n",
       "    <tr>\n",
       "      <th>2</th>\n",
       "      <td>23632</td>\n",
       "      <td>100</td>\n",
       "      <td>14132</td>\n",
       "      <td>175 Cross Rd</td>\n",
       "      <td>6/30/2013 0:00</td>\n",
       "      <td>1</td>\n",
       "    </tr>\n",
       "    <tr>\n",
       "      <th>3</th>\n",
       "      <td>23633</td>\n",
       "      <td>100</td>\n",
       "      <td>12266</td>\n",
       "      <td>Zone A Arndale Interchange</td>\n",
       "      <td>6/30/2013 0:00</td>\n",
       "      <td>2</td>\n",
       "    </tr>\n",
       "    <tr>\n",
       "      <th>4</th>\n",
       "      <td>23633</td>\n",
       "      <td>100</td>\n",
       "      <td>14147</td>\n",
       "      <td>178 Cross Rd</td>\n",
       "      <td>6/30/2013 0:00</td>\n",
       "      <td>1</td>\n",
       "    </tr>\n",
       "  </tbody>\n",
       "</table>\n",
       "</div>"
      ],
      "text/plain": [
       "   TripID RouteID  StopID                    StopName   WeekBeginning  \\\n",
       "0   23631     100   14156                181 Cross Rd  6/30/2013 0:00   \n",
       "1   23631     100   14144                177 Cross Rd  6/30/2013 0:00   \n",
       "2   23632     100   14132                175 Cross Rd  6/30/2013 0:00   \n",
       "3   23633     100   12266  Zone A Arndale Interchange  6/30/2013 0:00   \n",
       "4   23633     100   14147                178 Cross Rd  6/30/2013 0:00   \n",
       "\n",
       "   NumberOfBoardings  \n",
       "0                  1  \n",
       "1                  1  \n",
       "2                  1  \n",
       "3                  2  \n",
       "4                  1  "
      ]
     },
     "execution_count": 1,
     "metadata": {},
     "output_type": "execute_result"
    }
   ],
   "source": [
    "import pandas as pd\n",
    "import numpy as np\n",
    "import seaborn as sns\n",
    "import matplotlib.pyplot as plt\n",
    "data = pd.read_csv(r\"C:\\Users\\IT\\Desktop\\Samyukdha\\public transport analysis.csv\")\n",
    "data.head()"
   ]
  },
  {
   "cell_type": "code",
   "execution_count": 4,
   "id": "43b8e7a2",
   "metadata": {},
   "outputs": [
    {
     "data": {
      "text/plain": [
       "<bound method Series.sort_values of TripID               1.000000\n",
       "StopID               0.017946\n",
       "NumberOfBoardings    0.005864\n",
       "Name: TripID, dtype: float64>"
      ]
     },
     "execution_count": 4,
     "metadata": {},
     "output_type": "execute_result"
    }
   ],
   "source": [
    "correlation=data.corr()\n",
    "correlation[\"TripID\"].sort_values"
   ]
  },
  {
   "cell_type": "code",
   "execution_count": 15,
   "id": "b3e128d2",
   "metadata": {},
   "outputs": [
    {
     "data": {
      "text/plain": [
       "(1048575, 6)"
      ]
     },
     "execution_count": 15,
     "metadata": {},
     "output_type": "execute_result"
    },
    {
     "data": {
      "text/html": [
       "<div>\n",
       "<style scoped>\n",
       "    .dataframe tbody tr th:only-of-type {\n",
       "        vertical-align: middle;\n",
       "    }\n",
       "\n",
       "    .dataframe tbody tr th {\n",
       "        vertical-align: top;\n",
       "    }\n",
       "\n",
       "    .dataframe thead th {\n",
       "        text-align: right;\n",
       "    }\n",
       "</style>\n",
       "<table border=\"1\" class=\"dataframe\">\n",
       "  <thead>\n",
       "    <tr style=\"text-align: right;\">\n",
       "      <th></th>\n",
       "      <th>TripID</th>\n",
       "      <th>RouteID</th>\n",
       "      <th>StopID</th>\n",
       "      <th>StopName</th>\n",
       "      <th>WeekBeginning</th>\n",
       "      <th>NumberOfBoardings</th>\n",
       "    </tr>\n",
       "  </thead>\n",
       "  <tbody>\n",
       "    <tr>\n",
       "      <th>0</th>\n",
       "      <td>23631</td>\n",
       "      <td>100</td>\n",
       "      <td>14156</td>\n",
       "      <td>181 Cross Rd</td>\n",
       "      <td>6/30/2013 0:00</td>\n",
       "      <td>1</td>\n",
       "    </tr>\n",
       "    <tr>\n",
       "      <th>1</th>\n",
       "      <td>23631</td>\n",
       "      <td>100</td>\n",
       "      <td>14144</td>\n",
       "      <td>177 Cross Rd</td>\n",
       "      <td>6/30/2013 0:00</td>\n",
       "      <td>1</td>\n",
       "    </tr>\n",
       "    <tr>\n",
       "      <th>2</th>\n",
       "      <td>23632</td>\n",
       "      <td>100</td>\n",
       "      <td>14132</td>\n",
       "      <td>175 Cross Rd</td>\n",
       "      <td>6/30/2013 0:00</td>\n",
       "      <td>1</td>\n",
       "    </tr>\n",
       "    <tr>\n",
       "      <th>3</th>\n",
       "      <td>23633</td>\n",
       "      <td>100</td>\n",
       "      <td>12266</td>\n",
       "      <td>Zone A Arndale Interchange</td>\n",
       "      <td>6/30/2013 0:00</td>\n",
       "      <td>2</td>\n",
       "    </tr>\n",
       "    <tr>\n",
       "      <th>4</th>\n",
       "      <td>23633</td>\n",
       "      <td>100</td>\n",
       "      <td>14147</td>\n",
       "      <td>178 Cross Rd</td>\n",
       "      <td>6/30/2013 0:00</td>\n",
       "      <td>1</td>\n",
       "    </tr>\n",
       "    <tr>\n",
       "      <th>5</th>\n",
       "      <td>23634</td>\n",
       "      <td>100</td>\n",
       "      <td>13907</td>\n",
       "      <td>9A  Marion Rd</td>\n",
       "      <td>6/30/2013 0:00</td>\n",
       "      <td>1</td>\n",
       "    </tr>\n",
       "    <tr>\n",
       "      <th>6</th>\n",
       "      <td>23634</td>\n",
       "      <td>100</td>\n",
       "      <td>14132</td>\n",
       "      <td>175 Cross Rd</td>\n",
       "      <td>6/30/2013 0:00</td>\n",
       "      <td>1</td>\n",
       "    </tr>\n",
       "    <tr>\n",
       "      <th>7</th>\n",
       "      <td>23634</td>\n",
       "      <td>100</td>\n",
       "      <td>13335</td>\n",
       "      <td>9A  Holbrooks Rd</td>\n",
       "      <td>6/30/2013 0:00</td>\n",
       "      <td>1</td>\n",
       "    </tr>\n",
       "    <tr>\n",
       "      <th>8</th>\n",
       "      <td>23634</td>\n",
       "      <td>100</td>\n",
       "      <td>13875</td>\n",
       "      <td>9  Marion Rd</td>\n",
       "      <td>6/30/2013 0:00</td>\n",
       "      <td>1</td>\n",
       "    </tr>\n",
       "    <tr>\n",
       "      <th>9</th>\n",
       "      <td>23634</td>\n",
       "      <td>100</td>\n",
       "      <td>13045</td>\n",
       "      <td>206 Holbrooks Rd</td>\n",
       "      <td>6/30/2013 0:00</td>\n",
       "      <td>1</td>\n",
       "    </tr>\n",
       "  </tbody>\n",
       "</table>\n",
       "</div>"
      ],
      "text/plain": [
       "   TripID RouteID  StopID                    StopName   WeekBeginning  \\\n",
       "0   23631     100   14156                181 Cross Rd  6/30/2013 0:00   \n",
       "1   23631     100   14144                177 Cross Rd  6/30/2013 0:00   \n",
       "2   23632     100   14132                175 Cross Rd  6/30/2013 0:00   \n",
       "3   23633     100   12266  Zone A Arndale Interchange  6/30/2013 0:00   \n",
       "4   23633     100   14147                178 Cross Rd  6/30/2013 0:00   \n",
       "5   23634     100   13907               9A  Marion Rd  6/30/2013 0:00   \n",
       "6   23634     100   14132                175 Cross Rd  6/30/2013 0:00   \n",
       "7   23634     100   13335            9A  Holbrooks Rd  6/30/2013 0:00   \n",
       "8   23634     100   13875                9  Marion Rd  6/30/2013 0:00   \n",
       "9   23634     100   13045            206 Holbrooks Rd  6/30/2013 0:00   \n",
       "\n",
       "   NumberOfBoardings  \n",
       "0                  1  \n",
       "1                  1  \n",
       "2                  1  \n",
       "3                  2  \n",
       "4                  1  \n",
       "5                  1  \n",
       "6                  1  \n",
       "7                  1  \n",
       "8                  1  \n",
       "9                  1  "
      ]
     },
     "execution_count": 15,
     "metadata": {},
     "output_type": "execute_result"
    }
   ],
   "source": [
    "import numpy as np # linear algebra\n",
    "import pandas as pd # data processing, CSV file I/O (e.g. pd.read_csv)\n",
    "import matplotlib.pyplot as plt\n",
    "import datetime\n",
    "import os\n",
    "from math import sqrt\n",
    "import warnings\n",
    "\n",
    "## For Multiple Output in single cell\n",
    "from IPython.core.interactiveshell import InteractiveShell\n",
    "InteractiveShell.ast_node_interactivity = \"all\"\n",
    "warnings.filterwarnings('ignore')\n",
    "data = pd.read_csv(r\"C:\\Users\\IT\\Desktop\\Samyukdha\\public transport analysis.csv\")\n",
    "data.shape\n",
    "data.head(10)"
   ]
  },
  {
   "cell_type": "code",
   "execution_count": 34,
   "id": "ae4438f3",
   "metadata": {},
   "outputs": [
    {
     "data": {
      "text/plain": [
       "(1048575, 6)"
      ]
     },
     "execution_count": 34,
     "metadata": {},
     "output_type": "execute_result"
    },
    {
     "data": {
      "text/html": [
       "<div>\n",
       "<style scoped>\n",
       "    .dataframe tbody tr th:only-of-type {\n",
       "        vertical-align: middle;\n",
       "    }\n",
       "\n",
       "    .dataframe tbody tr th {\n",
       "        vertical-align: top;\n",
       "    }\n",
       "\n",
       "    .dataframe thead th {\n",
       "        text-align: right;\n",
       "    }\n",
       "</style>\n",
       "<table border=\"1\" class=\"dataframe\">\n",
       "  <thead>\n",
       "    <tr style=\"text-align: right;\">\n",
       "      <th></th>\n",
       "      <th>TripID</th>\n",
       "      <th>RouteID</th>\n",
       "      <th>StopID</th>\n",
       "      <th>StopName</th>\n",
       "      <th>WeekBeginning</th>\n",
       "      <th>NumberOfBoardings</th>\n",
       "    </tr>\n",
       "  </thead>\n",
       "  <tbody>\n",
       "    <tr>\n",
       "      <th>0</th>\n",
       "      <td>23631</td>\n",
       "      <td>100</td>\n",
       "      <td>14156</td>\n",
       "      <td>181 Cross Rd</td>\n",
       "      <td>6/30/2013 0:00</td>\n",
       "      <td>1</td>\n",
       "    </tr>\n",
       "    <tr>\n",
       "      <th>1</th>\n",
       "      <td>23631</td>\n",
       "      <td>100</td>\n",
       "      <td>14144</td>\n",
       "      <td>177 Cross Rd</td>\n",
       "      <td>6/30/2013 0:00</td>\n",
       "      <td>1</td>\n",
       "    </tr>\n",
       "    <tr>\n",
       "      <th>2</th>\n",
       "      <td>23632</td>\n",
       "      <td>100</td>\n",
       "      <td>14132</td>\n",
       "      <td>175 Cross Rd</td>\n",
       "      <td>6/30/2013 0:00</td>\n",
       "      <td>1</td>\n",
       "    </tr>\n",
       "    <tr>\n",
       "      <th>3</th>\n",
       "      <td>23633</td>\n",
       "      <td>100</td>\n",
       "      <td>12266</td>\n",
       "      <td>Zone A Arndale Interchange</td>\n",
       "      <td>6/30/2013 0:00</td>\n",
       "      <td>2</td>\n",
       "    </tr>\n",
       "    <tr>\n",
       "      <th>4</th>\n",
       "      <td>23633</td>\n",
       "      <td>100</td>\n",
       "      <td>14147</td>\n",
       "      <td>178 Cross Rd</td>\n",
       "      <td>6/30/2013 0:00</td>\n",
       "      <td>1</td>\n",
       "    </tr>\n",
       "  </tbody>\n",
       "</table>\n",
       "</div>"
      ],
      "text/plain": [
       "   TripID RouteID  StopID                    StopName   WeekBeginning  \\\n",
       "0   23631     100   14156                181 Cross Rd  6/30/2013 0:00   \n",
       "1   23631     100   14144                177 Cross Rd  6/30/2013 0:00   \n",
       "2   23632     100   14132                175 Cross Rd  6/30/2013 0:00   \n",
       "3   23633     100   12266  Zone A Arndale Interchange  6/30/2013 0:00   \n",
       "4   23633     100   14147                178 Cross Rd  6/30/2013 0:00   \n",
       "\n",
       "   NumberOfBoardings  \n",
       "0                  1  \n",
       "1                  1  \n",
       "2                  1  \n",
       "3                  2  \n",
       "4                  1  "
      ]
     },
     "execution_count": 34,
     "metadata": {},
     "output_type": "execute_result"
    }
   ],
   "source": [
    "out_geo = pd.read_csv(r\"C:\\Users\\IT\\Desktop\\Samyukdha\\public transport analysis.csv\")\n",
    "out_geo.shape\n",
    "out_geo.head()"
   ]
  },
  {
   "cell_type": "code",
   "execution_count": 35,
   "id": "f804cff3",
   "metadata": {},
   "outputs": [
    {
     "data": {
      "text/plain": [
       "Text(0.5, 1.0, 'No of Boardings')"
      ]
     },
     "execution_count": 35,
     "metadata": {},
     "output_type": "execute_result"
    },
    {
     "data": {
      "text/plain": [
       "<AxesSubplot:title={'center':'No of Boardings'}>"
      ]
     },
     "execution_count": 35,
     "metadata": {},
     "output_type": "execute_result"
    },
    {
     "data": {
      "text/plain": [
       "Text(0.5, 1.0, 'WeekBeginning')"
      ]
     },
     "execution_count": 35,
     "metadata": {},
     "output_type": "execute_result"
    },
    {
     "data": {
      "text/plain": [
       "<AxesSubplot:title={'center':'WeekBeginning'}>"
      ]
     },
     "execution_count": 35,
     "metadata": {},
     "output_type": "execute_result"
    },
    {
     "data": {
      "text/plain": [
       "Text(0.5, 1.0, 'most Busiest Route')"
      ]
     },
     "execution_count": 35,
     "metadata": {},
     "output_type": "execute_result"
    },
    {
     "data": {
      "text/plain": [
       "<AxesSubplot:title={'center':'most Busiest Route'}>"
      ]
     },
     "execution_count": 35,
     "metadata": {},
     "output_type": "execute_result"
    },
    {
     "data": {
      "text/plain": [
       "Text(0.5, 1.0, 'least Busiest Route')"
      ]
     },
     "execution_count": 35,
     "metadata": {},
     "output_type": "execute_result"
    },
    {
     "data": {
      "text/plain": [
       "<AxesSubplot:title={'center':'least Busiest Route'}>"
      ]
     },
     "execution_count": 35,
     "metadata": {},
     "output_type": "execute_result"
    },
    {
     "data": {
      "image/png": "[encoded data removed]",
      "text/plain": [
       "<Figure size 1080x1080 with 4 Axes>"
      ]
     },
     "metadata": {
      "needs_background": "light"
     },
     "output_type": "display_data"
    }
   ],
   "source": [
    "fig,axrr=plt.subplots(2,2,figsize=(15,15))\n",
    "\n",
    "ax=axrr[0][0]\n",
    "ax.set_title(\"No of Boardings\")\n",
    "data['NumberOfBoardings'].value_counts().sort_index().head(20).plot.bar(ax=axrr[0][0])\n",
    "\n",
    "ax=axrr[0][1]\n",
    "ax.set_title(\"WeekBeginning\")\n",
    "data['WeekBeginning'].value_counts().plot.area(ax=axrr[0][1])\n",
    "\n",
    "ax=axrr[1][0]\n",
    "ax.set_title(\"most Busiest Route\")\n",
    "data['RouteID'].value_counts().head(10).plot.bar(ax=axrr[1][0])\n",
    "\n",
    "ax=axrr[1][1]\n",
    "ax.set_title(\"least Busiest Route\")\n",
    "data['RouteID'].value_counts().tail(10).plot.bar(ax=axrr[1][1])"
   ]
  },
  {
   "cell_type": "code",
   "execution_count": null,
   "id": "9f42a333",
   "metadata": {},
   "outputs": [],
   "source": []
  }
 ],
 "metadata": {
  "kernelspec": {
   "display_name": "Python 3 (ipykernel)",
   "language": "python",
   "name": "python3"
  },
  "language_info": {
   "codemirror_mode": {
    "name": "ipython",
    "version": 3
   },
   "file_extension": ".py",
   "mimetype": "text/x-python",
   "name": "python",
   "nbconvert_exporter": "python",
   "pygments_lexer": "ipython3",
   "version": "3.9.12"
  }
 },
 "nbformat": 4,
 "nbformat_minor": 5
}
